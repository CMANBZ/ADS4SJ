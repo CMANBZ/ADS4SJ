{
 "cells": [
  {
   "cell_type": "code",
   "execution_count": 2,
   "id": "dae0e4c1-a391-490e-838a-199dff787e3e",
   "metadata": {},
   "outputs": [],
   "source": [
    "import numpy as np\n",
    "import pandas as pd\n",
    "import datetime as datetime"
   ]
  },
  {
   "cell_type": "code",
   "execution_count": null,
   "id": "644aef3e-5d87-4983-b080-27252c7016ed",
   "metadata": {},
   "outputs": [],
   "source": [
    "cad_16 = pd.read_csv(\"call_data_from_CAD.csv\")\n",
    "cad_df = pd.read_excel(\"call_data_from_CAD_2022.xlsx\")\n",
    "cahoot_df = pd.read_excel(\"call_data_from_CAHOOTS.xlsx\")\n",
    "cahoot_22 = pd.read_csv(\"call_data_cahoots_21_22.csv\")"
   ]
  },
  {
   "cell_type": "code",
   "execution_count": null,
   "id": "ba4a9b19-a4a2-4e65-ab18-bce337c7a396",
   "metadata": {},
   "outputs": [],
   "source": [
    "#cad_16 interested cols (format): [\"IncidentNumber\", 'Call_Created_Time', 'Call_First_Dispatched_Time', 'Call_First_On_Scene', 'Call_Cleared', 'Call_Zipcode', 'Beat', 'InitialIncidentTypeDescription','PrimaryUnitCallSign', 'RespondingUnitCallSign', 'Unit_Dispatched_Time', 'Unit_OnScene_Time','Disposition'] \n",
    "#all dates -> datetime, ints/strings stay the same, \n",
    "cad_16_clean = cad_16[[\"IncidentNumber\", 'Call_Created_Time', 'Call_Zipcode', 'Beat', 'InitialIncidentTypeDescription','PrimaryUnitCallSign', 'RespondingUnitCallSign','Disposition']]\n",
    "cad_16_clean\n",
    "#steps to take 1) IncidentNumber\n",
    "cad_16_clean[\"IncidentNumber\"] = cad_16_clean[\"IncidentNumber\"].str.extract(r'([0-9]{8}$)').astype(\"int\")\n",
    "#2) call_created_time\n",
    "cad_16_clean[\"Call_Created_Time\"] = pd.to_datetime(cad_16_clean[\"Call_Created_Time\"])\n",
    "#3) Call_First_Dispatched_Time, I have chosen to drop this col\n",
    "#cad_16_clean[\"Call_First_Dispatched_Time\"] = pd.to_datetime(cad_16_clean[\"Call_First_Dispatched_Time\"]) #30k at end of dataset is blank, could be when they switched systems\n"
   ]
  },
  {
   "cell_type": "code",
   "execution_count": 51,
   "id": "e48fad7a-bd2b-4f83-ae07-9bbc882a188f",
   "metadata": {},
   "outputs": [
    {
     "name": "stdout",
     "output_type": "stream",
     "text": [
      "int32 : IncidentNumber\n",
      "datetime64[ns] : Call_Created_Time\n",
      "float64 : Call_Zipcode\n",
      "object : Beat\n",
      "object : InitialIncidentTypeDescription\n",
      "object : PrimaryUnitCallSign\n",
      "object : RespondingUnitCallSign\n",
      "object : Disposition\n"
     ]
    }
   ],
   "source": []
  },
  {
   "cell_type": "code",
   "execution_count": 317,
   "id": "421ce995-1782-4e3e-9e1c-ef1cc5a472cc",
   "metadata": {},
   "outputs": [],
   "source": [
    "#cad_16_clean[cad_16_clean[\"Call_First_Dispatched_Time\"].isna() == True]\n",
    "#Call first dispatched time is not a good column to keep, as it has ~30k NA values \n",
    "\n",
    "cad_16_clean.to_csv(\"call_data_from_CAD_clean.csv\", index=False)"
   ]
  },
  {
   "cell_type": "code",
   "execution_count": 15,
   "id": "17f7fdb7-1164-430b-b2f9-9350d0db82c2",
   "metadata": {},
   "outputs": [
    {
     "data": {
      "text/plain": [
       "Index(['Incident Number', 'Parent Incident Number', 'Case Number',\n",
       "       'Incident Call Time', 'Call Taker', 'Call Source Type', 'City',\n",
       "       'Full City', 'Zip Code', 'Nature Code', 'Full Nature Code Description',\n",
       "       'Incident Priority', 'Assigned Unit', 'Service Type', 'Jurisidiction',\n",
       "       'Agency', 'First Unit Dispatched', 'First Dispatched Timestamp',\n",
       "       'First Enroute Timestamp', 'First Arrived Timestamp',\n",
       "       'First Transport Timestamp', 'Last Unit Clear Timestamp', 'Hold Time',\n",
       "       'Time Finished', 'Time Routed', 'Time Ready', 'Primary Unit',\n",
       "       'Cancel / Disposition Code', 'Time Closed', 'Seconds to Route',\n",
       "       'Seconds to Finish', 'Seconds to Dispatch', 'Seconds to Enroute',\n",
       "       'Seconds to Arrive', 'Seconds to Transport',\n",
       "       'Seconds to Last Unit Clear', 'Seconds Dispatched to Arrived',\n",
       "       'Seconds Dispatched to Enroute', 'Seconds Arrived to Last Unit Clear',\n",
       "       'Seconds Arrive to Transport', 'Seconds Finished to Dispatched',\n",
       "       'Seconds Routed to Dispatched'],\n",
       "      dtype='object')"
      ]
     },
     "execution_count": 15,
     "metadata": {},
     "output_type": "execute_result"
    }
   ],
   "source": [
    "#cad_df interestes cols: ['Incident Number', 'Parent Incident Number', 'Case Number', 'Incident Call Time', 'City', 'Assigned Unit', 'Service Type', 'Agency','First Unit Dispatched', 'First Dispatched Timestamp','First Enroute Timestamp', 'First Arrived Timestamp','First Transport Timestamp', 'Last Unit Clear Timestamp', 'Hold Time','Time Finished', 'Time Routed', 'Time Ready', 'Primary Unit','Time Closed']\n",
    "\n",
    "cad_df.columns"
   ]
  },
  {
   "cell_type": "code",
   "execution_count": 330,
   "id": "2f9f42dd-2adf-4753-96cd-c5c623416ca0",
   "metadata": {},
   "outputs": [
    {
     "name": "stdout",
     "output_type": "stream",
     "text": [
      "int64 : Incident Number\n",
      "datetime64[ns] : Incident Call Time\n",
      "object : City\n",
      "object : Assigned Unit\n",
      "object : Service Type\n",
      "object : Agency\n",
      "object : First Unit Dispatched\n",
      "datetime64[ns] : First Dispatched Timestamp\n",
      "datetime64[ns] : First Enroute Timestamp\n",
      "datetime64[ns] : First Arrived Timestamp\n",
      "datetime64[ns] : First Transport Timestamp\n",
      "datetime64[ns] : Last Unit Clear Timestamp\n",
      "datetime64[ns] : Hold Time\n",
      "datetime64[ns] : Time Finished\n",
      "datetime64[ns] : Time Routed\n",
      "datetime64[ns] : Time Ready\n",
      "object : Primary Unit\n",
      "datetime64[ns] : Time Closed\n"
     ]
    },
    {
     "name": "stderr",
     "output_type": "stream",
     "text": [
      "C:\\Users\\charl\\AppData\\Local\\Temp\\ipykernel_11448\\1863637974.py:5: SettingWithCopyWarning: \n",
      "A value is trying to be set on a copy of a slice from a DataFrame.\n",
      "Try using .loc[row_indexer,col_indexer] = value instead\n",
      "\n",
      "See the caveats in the documentation: https://pandas.pydata.org/pandas-docs/stable/user_guide/indexing.html#returning-a-view-versus-a-copy\n",
      "  cad_df_clean[\"First Unit Dispatched\"] = cad_df_clean[\"First Unit Dispatched\"].str.strip()\n",
      "C:\\Users\\charl\\AppData\\Local\\Temp\\ipykernel_11448\\1863637974.py:6: SettingWithCopyWarning: \n",
      "A value is trying to be set on a copy of a slice from a DataFrame.\n",
      "Try using .loc[row_indexer,col_indexer] = value instead\n",
      "\n",
      "See the caveats in the documentation: https://pandas.pydata.org/pandas-docs/stable/user_guide/indexing.html#returning-a-view-versus-a-copy\n",
      "  cad_df_clean[\"Assigned Unit\"] = cad_df_clean[\"Assigned Unit\"].str.strip()\n",
      "C:\\Users\\charl\\AppData\\Local\\Temp\\ipykernel_11448\\1863637974.py:7: SettingWithCopyWarning: \n",
      "A value is trying to be set on a copy of a slice from a DataFrame.\n",
      "Try using .loc[row_indexer,col_indexer] = value instead\n",
      "\n",
      "See the caveats in the documentation: https://pandas.pydata.org/pandas-docs/stable/user_guide/indexing.html#returning-a-view-versus-a-copy\n",
      "  cad_df_clean[\"Primary Unit\"] = cad_df_clean[\"Primary Unit\"].str.strip()\n"
     ]
    }
   ],
   "source": [
    "cad_df_clean = cad_df[['Incident Number', 'Incident Call Time', 'City', 'Assigned Unit', 'Service Type', 'Agency','First Unit Dispatched', 'First Dispatched Timestamp','First Enroute Timestamp', 'First Arrived Timestamp','First Transport Timestamp', 'Last Unit Clear Timestamp', 'Hold Time','Time Finished', 'Time Routed', 'Time Ready', 'Primary Unit','Time Closed']]\n",
    "# For data cleaning purposes, which col needs what done to it?\n",
    "for i in cad_df_clean.columns:\n",
    "    print(cad_df_clean[i].dtype,\":\", i)\n",
    "cad_df_clean[\"First Unit Dispatched\"] = cad_df_clean[\"First Unit Dispatched\"].str.strip()\n",
    "cad_df_clean[\"Assigned Unit\"] = cad_df_clean[\"Assigned Unit\"].str.strip()\n",
    "cad_df_clean[\"Primary Unit\"] = cad_df_clean[\"Primary Unit\"].str.strip()\n",
    "cad_df_clean.to_csv(\"call_data_from_CAD_2022_clean.csv\", index=False)"
   ]
  },
  {
   "cell_type": "code",
   "execution_count": 89,
   "id": "003b6963-847d-4033-bbae-f166cde3afd9",
   "metadata": {},
   "outputs": [
    {
     "data": {
      "text/plain": [
       "0"
      ]
     },
     "execution_count": 89,
     "metadata": {},
     "output_type": "execute_result"
    }
   ],
   "source": [
    "#Cad_df_clean\n"
   ]
  },
  {
   "cell_type": "code",
   "execution_count": 312,
   "id": "1d3391c1-0615-4d99-bc09-0d4e42b0ca31",
   "metadata": {},
   "outputs": [
    {
     "name": "stderr",
     "output_type": "stream",
     "text": [
      "C:\\Users\\charl\\AppData\\Local\\Temp\\ipykernel_11448\\109335143.py:17: SettingWithCopyWarning: \n",
      "A value is trying to be set on a copy of a slice from a DataFrame.\n",
      "Try using .loc[row_indexer,col_indexer] = value instead\n",
      "\n",
      "See the caveats in the documentation: https://pandas.pydata.org/pandas-docs/stable/user_guide/indexing.html#returning-a-view-versus-a-copy\n",
      "  cahoot_8[\"TimeFixed\"] = (date_pro + \" \" + time_pro)\n",
      "C:\\Users\\charl\\AppData\\Local\\Temp\\ipykernel_11448\\109335143.py:21: SettingWithCopyWarning: \n",
      "A value is trying to be set on a copy of a slice from a DataFrame\n",
      "\n",
      "See the caveats in the documentation: https://pandas.pydata.org/pandas-docs/stable/user_guide/indexing.html#returning-a-view-versus-a-copy\n",
      "  cahoot_8.drop(cahoot_8.loc[cahoot_8['TimeOfCall'] == \"########\"].index, inplace=True)\n",
      "C:\\Users\\charl\\AppData\\Local\\Temp\\ipykernel_11448\\109335143.py:23: SettingWithCopyWarning: \n",
      "A value is trying to be set on a copy of a slice from a DataFrame.\n",
      "Try using .loc[row_indexer,col_indexer] = value instead\n",
      "\n",
      "See the caveats in the documentation: https://pandas.pydata.org/pandas-docs/stable/user_guide/indexing.html#returning-a-view-versus-a-copy\n",
      "  cahoot_8[\"TimeFixed\"] = pd.to_datetime(cahoot_8[\"TimeFixed\"])\n",
      "C:\\Users\\charl\\AppData\\Local\\Temp\\ipykernel_11448\\109335143.py:24: SettingWithCopyWarning: \n",
      "A value is trying to be set on a copy of a slice from a DataFrame.\n",
      "Try using .loc[row_indexer,col_indexer] = value instead\n",
      "\n",
      "See the caveats in the documentation: https://pandas.pydata.org/pandas-docs/stable/user_guide/indexing.html#returning-a-view-versus-a-copy\n",
      "  cahoot_8[\"TimeOfCall\"] = cahoot_8[\"TimeFixed\"].copy()\n"
     ]
    }
   ],
   "source": [
    "#cahoot_df interested cols: ['\"TimeOfCall, \"City\", \"Reason for Dispatch\"]\n",
    "#Drop all rows with time_len = 3\n",
    "\n",
    "cahoot_df[\"time_len\"] = cahoot_df[\"TimeOfCall\"].astype('str').str.len()\n",
    "cahoot_df[cahoot_df[\"time_len\"]==3]\n",
    "cahoot_df_clean = cahoot_df[cahoot_df[\"time_len\"] != 3]\n",
    "cahoot_df_clean[\"time_len\"].unique()\n",
    "#if time_len = 8 add date to it, convert Date to datetime\n",
    "cahoot_8 = cahoot_df_clean[cahoot_df_clean[\"time_len\"] == 8]\n",
    "cahoot_19 = cahoot_df_clean[cahoot_df_clean[\"time_len\"] == 19]\n",
    "time_pro = cahoot_8[\"TimeOfCall\"].astype(\"str\").copy()\n",
    "date_pro = cahoot_8[\"Date\"].astype(\"str\").copy()\n",
    "cahoot_8.loc[:,\"Date\"] = cahoot_8[\"Date\"].astype(\"str\").copy()\n",
    "cahoot_8.loc[:,\"TimeOfCall\"] = cahoot_8[\"TimeOfCall\"].astype('str').copy()\n",
    "\n",
    "#cahoot_8[\"TimeOfCall\"] = cahoot_8[\"TimeOfCall\"].str.cat(time_pro, sep= \" \")\n",
    "cahoot_8[\"TimeFixed\"] = (date_pro + \" \" + time_pro)\n",
    "#cahoot_8[cahoot_8[\"TimeOfCall\"] == \"########\"]\n",
    "\n",
    "#taken from https://stackoverflow.com/questions/56754831/drop-columns-if-rows-contain-a-specific-value-in-pandas\n",
    "cahoot_8.drop(cahoot_8.loc[cahoot_8['TimeOfCall'] == \"########\"].index, inplace=True)\n",
    "\n",
    "cahoot_8[\"TimeFixed\"] = pd.to_datetime(cahoot_8[\"TimeFixed\"])\n",
    "cahoot_8[\"TimeOfCall\"] = cahoot_8[\"TimeFixed\"].copy()\n",
    "cahoot_8.drop([\"TimeFixed\"], axis=1)\n",
    "cahoot_df_clean_final = pd.concat([cahoot_8, cahoot_19])\n",
    "cahoot_df_clean_final[[\"TimeOfCall\", \"City\", \"Reason for Dispatch\"]].to_csv(\"call_data_from_CAHOOTS_clean.csv\", index = False)"
   ]
  },
  {
   "cell_type": "code",
   "execution_count": 313,
   "id": "7b62bdc5-94f7-4a02-97d4-aef3b93522b8",
   "metadata": {},
   "outputs": [
    {
     "name": "stderr",
     "output_type": "stream",
     "text": [
      "C:\\Users\\charl\\AppData\\Local\\Temp\\ipykernel_11448\\2455612092.py:15: SettingWithCopyWarning: \n",
      "A value is trying to be set on a copy of a slice from a DataFrame.\n",
      "Try using .loc[row_indexer,col_indexer] = value instead\n",
      "\n",
      "See the caveats in the documentation: https://pandas.pydata.org/pandas-docs/stable/user_guide/indexing.html#returning-a-view-versus-a-copy\n",
      "  cahoot_22_clean[\"TimeOfCall\"] = cahoot_22_clean[\"TimeOfCall\"].str.replace(\" PM\", \"\")\n",
      "C:\\Users\\charl\\AppData\\Local\\Temp\\ipykernel_11448\\2455612092.py:16: SettingWithCopyWarning: \n",
      "A value is trying to be set on a copy of a slice from a DataFrame.\n",
      "Try using .loc[row_indexer,col_indexer] = value instead\n",
      "\n",
      "See the caveats in the documentation: https://pandas.pydata.org/pandas-docs/stable/user_guide/indexing.html#returning-a-view-versus-a-copy\n",
      "  cahoot_22_clean[\"TimeOfCall\"] = cahoot_22_clean[\"TimeOfCall\"].str.replace(\" AM\", \"\")\n",
      "C:\\Users\\charl\\AppData\\Local\\Temp\\ipykernel_11448\\2455612092.py:17: SettingWithCopyWarning: \n",
      "A value is trying to be set on a copy of a slice from a DataFrame.\n",
      "Try using .loc[row_indexer,col_indexer] = value instead\n",
      "\n",
      "See the caveats in the documentation: https://pandas.pydata.org/pandas-docs/stable/user_guide/indexing.html#returning-a-view-versus-a-copy\n",
      "  cahoot_22_clean[\"TimeFixed\"] = cahoot_22_clean[\"Date\"] + \" \" + cahoot_22_clean[\"TimeOfCall\"]\n",
      "C:\\Users\\charl\\AppData\\Local\\Temp\\ipykernel_11448\\2455612092.py:19: SettingWithCopyWarning: \n",
      "A value is trying to be set on a copy of a slice from a DataFrame.\n",
      "Try using .loc[row_indexer,col_indexer] = value instead\n",
      "\n",
      "See the caveats in the documentation: https://pandas.pydata.org/pandas-docs/stable/user_guide/indexing.html#returning-a-view-versus-a-copy\n",
      "  cahoot_22_clean[\"time_len\"] = cahoot_22_clean[\"TimeOfCall\"].astype('str').str.len()\n"
     ]
    }
   ],
   "source": [
    "#cahoot_22 cols: [\"Date\", \"TimeOfCall\", \"City\", \"Reason for Dispatch\"]\n",
    "# cahoot_22_clean = cahoot_22.iloc[:46899][[\"Date\", \"TimeOfCall\", \"City\", \"Reason for Dispatch\"]]\n",
    "# cahoot_22_clean[\"Date\"] = pd.to_datetime(cahoot_22_clean[\"Date\"])\n",
    "# cahoot_22_clean[\"Date\"]\n",
    "\n",
    "# #Code to clean up the date and time columns, concatenate into single datetime col\n",
    "# cahoot_22_clean[\"TimeOfCall\"]\n",
    "\n",
    "\n",
    "#list_date = cad_df[\"Incident Call Time\"].astype('str').str.split()\n",
    "#list_date.str[0]\n",
    "#cad_df[\"Date\"] = list_date.str[0]\n",
    "#cad_df[\"Time\"] = list_date.str[1]\n",
    "cahoot_22_clean = cahoot_22.dropna(subset=[\"Date\",\"TimeOfCall\", \"City\"])\n",
    "cahoot_22_clean[\"TimeOfCall\"] = cahoot_22_clean[\"TimeOfCall\"].str.replace(\" PM\", \"\")\n",
    "cahoot_22_clean[\"TimeOfCall\"] = cahoot_22_clean[\"TimeOfCall\"].str.replace(\" AM\", \"\")\n",
    "cahoot_22_clean[\"TimeFixed\"] = cahoot_22_clean[\"Date\"] + \" \" + cahoot_22_clean[\"TimeOfCall\"]\n",
    "#cahoot_22_clean[\"TimeFixed\"] = pd.to_datetime(cahoot_22_clean[\"TimeFixed\"]) NEED O DROP COLS WHERE LENGHT OF TIME IS TOO SHORT\n",
    "cahoot_22_clean[\"time_len\"] = cahoot_22_clean[\"TimeOfCall\"].astype('str').str.len()\n",
    "#[ 8,  7,  5,  4, 10, 11] drop 4/5\n",
    "cahoot_22_clean = cahoot_22_clean[cahoot_22_clean[\"time_len\"] != 4]\n",
    "cahoot_22_clean = cahoot_22_clean[cahoot_22_clean[\"time_len\"] != 5]\n",
    "cahoot_22_clean[\"time_len\"].unique()\n",
    "#cahoot_22_clean[\"TimeFixed\"] = pd.to_datetime(cahoot_22_clean[\"TimeFixed\"])\n",
    "cahoot_22_clean[cahoot_22_clean[\"time_len\"] == 10] #NEED TO STR REPLACE \" PM\" and \" AM\", PM TIMES MUST +12\n",
    "cahoot_22_clean = cahoot_22_clean[cahoot_22_clean[\"time_len\"] != 10]\n",
    "cahoot_22_clean = cahoot_22_clean[cahoot_22_clean[\"time_len\"] != 11]\n",
    "cahoot_22_clean[\"TimeFixed\"] = pd.to_datetime(cahoot_22_clean[\"TimeFixed\"])\n",
    "cahoot_22_clean[\"TimeOfCall\"] = cahoot_22_clean[\"TimeFixed\"]\n",
    "cahoot_22_clean = cahoot_22_clean[[\"TimeOfCall\", \"City\", \"Reason for Dispatch\"]]\n",
    "cahoot_22_clean.to_csv(\"call_data_cahoots_21_22_clean.csv\", index = False)"
   ]
  }
 ],
 "metadata": {
  "kernelspec": {
   "display_name": "Python 3 (ipykernel)",
   "language": "python",
   "name": "python3"
  },
  "language_info": {
   "codemirror_mode": {
    "name": "ipython",
    "version": 3
   },
   "file_extension": ".py",
   "mimetype": "text/x-python",
   "name": "python",
   "nbconvert_exporter": "python",
   "pygments_lexer": "ipython3",
   "version": "3.12.1"
  }
 },
 "nbformat": 4,
 "nbformat_minor": 5
}
